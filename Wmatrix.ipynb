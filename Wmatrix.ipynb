{
 "cells": [
  {
   "cell_type": "code",
   "execution_count": 11,
   "id": "2e9cd2cd",
   "metadata": {},
   "outputs": [
    {
     "name": "stdout",
     "output_type": "stream",
     "text": [
      "947.5180366607916\n",
      "epoch: 0, init log px: 947.5180366607916, train elbo: -2405.873291015625\n",
      "epoch: 500, init log px: 947.5180366607916, train elbo: -776.369140625\n",
      "epoch: 1000, init log px: 947.5180366607916, train elbo: -630.4660034179688\n",
      "epoch: 1500, init log px: 947.5180366607916, train elbo: -516.3265380859375\n",
      "epoch: 2000, init log px: 947.5180366607916, train elbo: -412.8326721191406\n",
      "epoch: 2500, init log px: 947.5180366607916, train elbo: -316.29498291015625\n",
      "epoch: 3000, init log px: 947.5180366607916, train elbo: -224.99468994140625\n",
      "epoch: 3500, init log px: 947.5180366607916, train elbo: -137.44577026367188\n",
      "epoch: 4000, init log px: 947.5180366607916, train elbo: -52.877357482910156\n",
      "epoch: 4500, init log px: 947.5180366607916, train elbo: 29.105239868164062\n",
      "epoch: 5000, init log px: 947.5180366607916, train elbo: 108.70964813232422\n",
      "epoch: 5500, init log px: 947.5180366607916, train elbo: 185.8158416748047\n",
      "epoch: 6000, init log px: 947.5180366607916, train elbo: 260.1192321777344\n",
      "epoch: 6500, init log px: 947.5180366607916, train elbo: 331.7062683105469\n",
      "epoch: 7000, init log px: 947.5180366607916, train elbo: 400.5130920410156\n",
      "epoch: 7500, init log px: 947.5180366607916, train elbo: 466.13104248046875\n",
      "epoch: 8000, init log px: 947.5180366607916, train elbo: 528.56396484375\n",
      "epoch: 8500, init log px: 947.5180366607916, train elbo: 587.8545532226562\n",
      "epoch: 9000, init log px: 947.5180366607916, train elbo: 644.1439208984375\n",
      "epoch: 9500, init log px: 947.5180366607916, train elbo: 697.5081787109375\n",
      "epoch: 10000, init log px: 947.5180366607916, train elbo: 747.923583984375\n",
      "epoch: 10500, init log px: 947.5180366607916, train elbo: 795.2539672851562\n",
      "epoch: 11000, init log px: 947.5180366607916, train elbo: 838.8919677734375\n",
      "epoch: 11500, init log px: 947.5180366607916, train elbo: 875.710205078125\n",
      "epoch: 12000, init log px: 947.5180366607916, train elbo: 904.8651733398438\n",
      "epoch: 12500, init log px: 947.5180366607916, train elbo: 925.7625732421875\n",
      "epoch: 13000, init log px: 947.5180366607916, train elbo: 938.051025390625\n",
      "epoch: 13500, init log px: 947.5180366607916, train elbo: 944.276611328125\n",
      "epoch: 14000, init log px: 947.5180366607916, train elbo: 946.748779296875\n",
      "epoch: 14500, init log px: 947.5180366607916, train elbo: 947.4658813476562\n",
      "epoch: 15000, init log px: 947.5180366607916, train elbo: 947.624755859375\n",
      "epoch: 15500, init log px: 947.5180366607916, train elbo: 947.6701049804688\n",
      "epoch: 16000, init log px: 947.5180366607916, train elbo: 947.6915283203125\n",
      "epoch: 16500, init log px: 947.5180366607916, train elbo: 947.706787109375\n",
      "epoch: 17000, init log px: 947.5180366607916, train elbo: 947.7225341796875\n",
      "epoch: 17500, init log px: 947.5180366607916, train elbo: 947.7221069335938\n",
      "epoch: 18000, init log px: 947.5180366607916, train elbo: 947.7379150390625\n",
      "epoch: 18500, init log px: 947.5180366607916, train elbo: 947.7540283203125\n",
      "epoch: 19000, init log px: 947.5180366607916, train elbo: 947.750732421875\n",
      "epoch: 19500, init log px: 947.5180366607916, train elbo: 947.7586669921875\n",
      "epoch: 20000, init log px: 947.5180366607916, train elbo: 947.7684936523438\n",
      "epoch: 20500, init log px: 947.5180366607916, train elbo: 947.7735595703125\n",
      "epoch: 21000, init log px: 947.5180366607916, train elbo: 947.77880859375\n",
      "epoch: 21500, init log px: 947.5180366607916, train elbo: 947.7835693359375\n",
      "epoch: 22000, init log px: 947.5180366607916, train elbo: 947.78759765625\n",
      "epoch: 22500, init log px: 947.5180366607916, train elbo: 947.7902221679688\n",
      "epoch: 23000, init log px: 947.5180366607916, train elbo: 947.796142578125\n",
      "epoch: 23500, init log px: 947.5180366607916, train elbo: 947.7939453125\n",
      "epoch: 24000, init log px: 947.5180366607916, train elbo: 947.7933959960938\n",
      "epoch: 24500, init log px: 947.5180366607916, train elbo: 947.8026123046875\n",
      "epoch: 25000, init log px: 947.5180366607916, train elbo: 947.8065185546875\n",
      "epoch: 25500, init log px: 947.5180366607916, train elbo: 947.8098754882812\n",
      "epoch: 26000, init log px: 947.5180366607916, train elbo: 947.8108520507812\n",
      "epoch: 26500, init log px: 947.5180366607916, train elbo: 947.8140258789062\n",
      "epoch: 27000, init log px: 947.5180366607916, train elbo: 947.8145751953125\n",
      "epoch: 27500, init log px: 947.5180366607916, train elbo: 947.820068359375\n",
      "epoch: 28000, init log px: 947.5180366607916, train elbo: 947.821533203125\n",
      "epoch: 28500, init log px: 947.5180366607916, train elbo: 947.8251953125\n",
      "epoch: 29000, init log px: 947.5180366607916, train elbo: 947.8265380859375\n",
      "epoch: 29500, init log px: 947.5180366607916, train elbo: 947.8284912109375\n",
      "epoch: 30000, init log px: 947.5180366607916, train elbo: 947.8248291015625\n",
      "epoch: 30500, init log px: 947.5180366607916, train elbo: 947.827880859375\n",
      "epoch: 31000, init log px: 947.5180366607916, train elbo: 947.8298950195312\n",
      "epoch: 31500, init log px: 947.5180366607916, train elbo: 947.8342895507812\n",
      "epoch: 32000, init log px: 947.5180366607916, train elbo: 947.8360595703125\n",
      "epoch: 32500, init log px: 947.5180366607916, train elbo: 947.8370971679688\n",
      "epoch: 33000, init log px: 947.5180366607916, train elbo: 947.8404541015625\n",
      "epoch: 33500, init log px: 947.5180366607916, train elbo: 947.8394775390625\n",
      "epoch: 34000, init log px: 947.5180366607916, train elbo: 947.835205078125\n",
      "epoch: 34500, init log px: 947.5180366607916, train elbo: 947.8380126953125\n",
      "epoch: 35000, init log px: 947.5180366607916, train elbo: 947.83935546875\n",
      "epoch: 35500, init log px: 947.5180366607916, train elbo: 947.8438720703125\n",
      "epoch: 36000, init log px: 947.5180366607916, train elbo: 947.83935546875\n",
      "epoch: 36500, init log px: 947.5180366607916, train elbo: 947.847900390625\n",
      "epoch: 37000, init log px: 947.5180366607916, train elbo: 947.8427124023438\n",
      "epoch: 37500, init log px: 947.5180366607916, train elbo: 947.84716796875\n",
      "epoch: 38000, init log px: 947.5180366607916, train elbo: 947.8470458984375\n",
      "epoch: 38500, init log px: 947.5180366607916, train elbo: 947.8495483398438\n",
      "epoch: 39000, init log px: 947.5180366607916, train elbo: 947.8489990234375\n",
      "epoch: 39500, init log px: 947.5180366607916, train elbo: 947.8511962890625\n",
      "epoch: 40000, init log px: 947.5180366607916, train elbo: 947.8504638671875\n",
      "epoch: 40500, init log px: 947.5180366607916, train elbo: 947.852294921875\n",
      "epoch: 41000, init log px: 947.5180366607916, train elbo: 947.855712890625\n",
      "epoch: 41500, init log px: 947.5180366607916, train elbo: 947.8538208007812\n",
      "epoch: 42000, init log px: 947.5180366607916, train elbo: 947.8547973632812\n",
      "epoch: 42500, init log px: 947.5180366607916, train elbo: 947.8497314453125\n",
      "epoch: 43000, init log px: 947.5180366607916, train elbo: 947.856201171875\n",
      "epoch: 43500, init log px: 947.5180366607916, train elbo: 947.8587036132812\n",
      "epoch: 44000, init log px: 947.5180366607916, train elbo: 947.8572387695312\n",
      "epoch: 44500, init log px: 947.5180366607916, train elbo: 947.85888671875\n",
      "epoch: 45000, init log px: 947.5180366607916, train elbo: 947.86279296875\n",
      "epoch: 45500, init log px: 947.5180366607916, train elbo: 947.8566284179688\n",
      "epoch: 46000, init log px: 947.5180366607916, train elbo: 947.859619140625\n",
      "epoch: 46500, init log px: 947.5180366607916, train elbo: 947.8590087890625\n",
      "epoch: 47000, init log px: 947.5180366607916, train elbo: 947.8619995117188\n",
      "epoch: 47500, init log px: 947.5180366607916, train elbo: 947.8606567382812\n",
      "epoch: 48000, init log px: 947.5180366607916, train elbo: 947.8614501953125\n",
      "epoch: 48500, init log px: 947.5180366607916, train elbo: 947.860107421875\n",
      "epoch: 49000, init log px: 947.5180366607916, train elbo: 947.8646240234375\n",
      "epoch: 49500, init log px: 947.5180366607916, train elbo: 947.85986328125\n",
      "epoch: 50000, init log px: 947.5180366607916, train elbo: 947.8646240234375\n",
      "epoch: 50500, init log px: 947.5180366607916, train elbo: 947.864990234375\n",
      "epoch: 51000, init log px: 947.5180366607916, train elbo: 947.8648681640625\n",
      "epoch: 51500, init log px: 947.5180366607916, train elbo: 947.8642578125\n",
      "epoch: 52000, init log px: 947.5180366607916, train elbo: 947.8687744140625\n",
      "epoch: 52500, init log px: 947.5180366607916, train elbo: 947.8612060546875\n",
      "epoch: 53000, init log px: 947.5180366607916, train elbo: 947.8643798828125\n",
      "epoch: 53500, init log px: 947.5180366607916, train elbo: 947.869384765625\n",
      "epoch: 54000, init log px: 947.5180366607916, train elbo: 947.8702392578125\n"
     ]
    },
    {
     "name": "stdout",
     "output_type": "stream",
     "text": [
      "epoch: 54500, init log px: 947.5180366607916, train elbo: 947.8714599609375\n",
      "epoch: 55000, init log px: 947.5180366607916, train elbo: 947.8682250976562\n",
      "epoch: 55500, init log px: 947.5180366607916, train elbo: 947.8682861328125\n",
      "epoch: 56000, init log px: 947.5180366607916, train elbo: 947.8704833984375\n",
      "epoch: 56500, init log px: 947.5180366607916, train elbo: 947.8702392578125\n",
      "epoch: 57000, init log px: 947.5180366607916, train elbo: 947.8709716796875\n",
      "epoch: 57500, init log px: 947.5180366607916, train elbo: 947.872802734375\n",
      "epoch: 58000, init log px: 947.5180366607916, train elbo: 947.8715209960938\n",
      "epoch: 58500, init log px: 947.5180366607916, train elbo: 947.871826171875\n",
      "epoch: 59000, init log px: 947.5180366607916, train elbo: 947.87451171875\n",
      "epoch: 59500, init log px: 947.5180366607916, train elbo: 947.8709716796875\n",
      "epoch: 60000, init log px: 947.5180366607916, train elbo: 947.8748779296875\n",
      "epoch: 60500, init log px: 947.5180366607916, train elbo: 947.870849609375\n",
      "epoch: 61000, init log px: 947.5180366607916, train elbo: 947.873779296875\n",
      "epoch: 61500, init log px: 947.5180366607916, train elbo: 947.8732299804688\n",
      "epoch: 62000, init log px: 947.5180366607916, train elbo: 947.8755493164062\n",
      "epoch: 62500, init log px: 947.5180366607916, train elbo: 947.8706665039062\n",
      "epoch: 63000, init log px: 947.5180366607916, train elbo: 947.8748779296875\n",
      "epoch: 63500, init log px: 947.5180366607916, train elbo: 947.8751220703125\n",
      "epoch: 64000, init log px: 947.5180366607916, train elbo: 947.8696899414062\n",
      "epoch: 64500, init log px: 947.5180366607916, train elbo: 947.8781127929688\n",
      "epoch: 65000, init log px: 947.5180366607916, train elbo: 947.8764038085938\n",
      "epoch: 65500, init log px: 947.5180366607916, train elbo: 947.876220703125\n",
      "epoch: 66000, init log px: 947.5180366607916, train elbo: 947.8726806640625\n",
      "epoch: 66500, init log px: 947.5180366607916, train elbo: 947.8765869140625\n",
      "epoch: 67000, init log px: 947.5180366607916, train elbo: 947.87744140625\n",
      "epoch: 67500, init log px: 947.5180366607916, train elbo: 947.8783569335938\n",
      "epoch: 68000, init log px: 947.5180366607916, train elbo: 947.875244140625\n",
      "epoch: 68500, init log px: 947.5180366607916, train elbo: 947.8756103515625\n",
      "epoch: 69000, init log px: 947.5180366607916, train elbo: 947.8773803710938\n",
      "epoch: 69500, init log px: 947.5180366607916, train elbo: 947.88037109375\n",
      "epoch: 70000, init log px: 947.5180366607916, train elbo: 947.8815307617188\n",
      "epoch: 70500, init log px: 947.5180366607916, train elbo: 947.8797607421875\n",
      "epoch: 71000, init log px: 947.5180366607916, train elbo: 947.878662109375\n",
      "epoch: 71500, init log px: 947.5180366607916, train elbo: 947.8768310546875\n",
      "epoch: 72000, init log px: 947.5180366607916, train elbo: 947.8770751953125\n",
      "epoch: 72500, init log px: 947.5180366607916, train elbo: 947.88134765625\n",
      "epoch: 73000, init log px: 947.5180366607916, train elbo: 947.877685546875\n",
      "epoch: 73500, init log px: 947.5180366607916, train elbo: 947.8795776367188\n",
      "epoch: 74000, init log px: 947.5180366607916, train elbo: 947.87841796875\n",
      "epoch: 74500, init log px: 947.5180366607916, train elbo: 947.880615234375\n",
      "epoch: 75000, init log px: 947.5180366607916, train elbo: 947.878662109375\n",
      "epoch: 75500, init log px: 947.5180366607916, train elbo: 947.882080078125\n",
      "epoch: 76000, init log px: 947.5180366607916, train elbo: 947.8806762695312\n",
      "epoch: 76500, init log px: 947.5180366607916, train elbo: 947.8787841796875\n",
      "epoch: 77000, init log px: 947.5180366607916, train elbo: 947.8805541992188\n",
      "epoch: 77500, init log px: 947.5180366607916, train elbo: 947.8823852539062\n",
      "epoch: 78000, init log px: 947.5180366607916, train elbo: 947.8798828125\n",
      "epoch: 78500, init log px: 947.5180366607916, train elbo: 947.881103515625\n",
      "epoch: 79000, init log px: 947.5180366607916, train elbo: 947.883544921875\n",
      "epoch: 79500, init log px: 947.5180366607916, train elbo: 947.8828125\n",
      "epoch: 80000, init log px: 947.5180366607916, train elbo: 947.877197265625\n",
      "epoch: 80500, init log px: 947.5180366607916, train elbo: 947.8857421875\n",
      "epoch: 81000, init log px: 947.5180366607916, train elbo: 947.8831787109375\n",
      "epoch: 81500, init log px: 947.5180366607916, train elbo: 947.8812255859375\n",
      "epoch: 82000, init log px: 947.5180366607916, train elbo: 947.8809814453125\n",
      "epoch: 82500, init log px: 947.5180366607916, train elbo: 947.880859375\n",
      "epoch: 83000, init log px: 947.5180366607916, train elbo: 947.8846435546875\n",
      "epoch: 83500, init log px: 947.5180366607916, train elbo: 947.885009765625\n",
      "epoch: 84000, init log px: 947.5180366607916, train elbo: 947.885009765625\n",
      "epoch: 84500, init log px: 947.5180366607916, train elbo: 947.8853759765625\n",
      "epoch: 85000, init log px: 947.5180366607916, train elbo: 947.884765625\n",
      "epoch: 85500, init log px: 947.5180366607916, train elbo: 947.8822021484375\n",
      "epoch: 86000, init log px: 947.5180366607916, train elbo: 947.8837890625\n",
      "epoch: 86500, init log px: 947.5180366607916, train elbo: 947.8834228515625\n",
      "epoch: 87000, init log px: 947.5180366607916, train elbo: 947.8780517578125\n",
      "epoch: 87500, init log px: 947.5180366607916, train elbo: 947.8851318359375\n",
      "epoch: 88000, init log px: 947.5180366607916, train elbo: 947.8836669921875\n",
      "epoch: 88500, init log px: 947.5180366607916, train elbo: 947.8862915039062\n",
      "epoch: 89000, init log px: 947.5180366607916, train elbo: 947.88330078125\n",
      "epoch: 89500, init log px: 947.5180366607916, train elbo: 947.884765625\n",
      "epoch: 90000, init log px: 947.5180366607916, train elbo: 947.883056640625\n",
      "epoch: 90500, init log px: 947.5180366607916, train elbo: 947.8839721679688\n",
      "epoch: 91000, init log px: 947.5180366607916, train elbo: 947.8848266601562\n",
      "epoch: 91500, init log px: 947.5180366607916, train elbo: 947.8859252929688\n",
      "epoch: 92000, init log px: 947.5180366607916, train elbo: 947.8831787109375\n",
      "epoch: 92500, init log px: 947.5180366607916, train elbo: 947.88525390625\n",
      "epoch: 93000, init log px: 947.5180366607916, train elbo: 947.88623046875\n",
      "epoch: 93500, init log px: 947.5180366607916, train elbo: 947.884765625\n",
      "epoch: 94000, init log px: 947.5180366607916, train elbo: 947.8849487304688\n",
      "epoch: 94500, init log px: 947.5180366607916, train elbo: 947.887451171875\n",
      "epoch: 95000, init log px: 947.5180366607916, train elbo: 947.88671875\n",
      "epoch: 95500, init log px: 947.5180366607916, train elbo: 947.8846435546875\n",
      "epoch: 96000, init log px: 947.5180366607916, train elbo: 947.8892822265625\n",
      "epoch: 96500, init log px: 947.5180366607916, train elbo: 947.884521484375\n",
      "epoch: 97000, init log px: 947.5180366607916, train elbo: 947.8797607421875\n",
      "epoch: 97500, init log px: 947.5180366607916, train elbo: 947.8895263671875\n",
      "epoch: 98000, init log px: 947.5180366607916, train elbo: 947.8843383789062\n",
      "epoch: 98500, init log px: 947.5180366607916, train elbo: 947.8886108398438\n",
      "epoch: 99000, init log px: 947.5180366607916, train elbo: 947.887939453125\n",
      "epoch: 99500, init log px: 947.5180366607916, train elbo: 947.8863525390625\n"
     ]
    }
   ],
   "source": [
    "import torch\n",
    "from configs import *\n",
    "from vae import LinearVAE, DeepVAE\n",
    "from ppca import PPCA\n",
    "from data_loader import DataSampler\n",
    "import random\n",
    "import numpy as np\n",
    "\n",
    "\n",
    "def setup_seed(seed):\n",
    "    torch.manual_seed(seed)\n",
    "    torch.cuda.manual_seed_all(seed)\n",
    "    np.random.seed(seed)\n",
    "    random.seed(seed)\n",
    "    torch.backends.cudnn.deterministic = True\n",
    "\n",
    "setup_seed(0)\n",
    "\n",
    "\n",
    "data_sampler = DataSampler(configs)\n",
    "data = data_sampler.sample_tensor(1000)\n",
    "\n",
    "\n",
    "ppca = PPCA(configs)\n",
    "avg_log_lik = ppca.fit(data.cpu().numpy())\n",
    "print(avg_log_lik)\n",
    "\n",
    "vae = LinearVAE(configs)\n",
    "optim = torch.optim.Adam(vae.parameters(), lr=configs.alg_configs.learning_rate)\n",
    "\n",
    "\n",
    "elbo = []\n",
    "for i in range(100000):\n",
    "    loss = vae.forward(data)\n",
    "    optim.zero_grad()\n",
    "    loss.backward()\n",
    "    optim.step()\n",
    "    elbo.append(-loss.item())\n",
    "    if i % 500 == 0:\n",
    "        print('epoch: {}, init log px: {}, train elbo: {}'.format(i, avg_log_lik, -loss.item()))"
   ]
  },
  {
   "cell_type": "code",
   "execution_count": 12,
   "id": "563e659b",
   "metadata": {},
   "outputs": [],
   "source": [
    "mle_W = ppca.mle_W\n",
    "mle_sigma_sq = ppca.mle_sigma_sq"
   ]
  },
  {
   "cell_type": "code",
   "execution_count": 13,
   "id": "89cf10cc",
   "metadata": {},
   "outputs": [],
   "source": [
    "vae_W = vae.WT.detach().cpu().numpy()\n",
    "vae_W  = vae_W.T\n",
    "vae_sigma_sq = np.exp(vae.log_sigma_sq.cpu().item())"
   ]
  },
  {
   "cell_type": "code",
   "execution_count": 14,
   "id": "f6de98ce",
   "metadata": {},
   "outputs": [
    {
     "data": {
      "text/plain": [
       "0.0021104746194295985"
      ]
     },
     "execution_count": 14,
     "metadata": {},
     "output_type": "execute_result"
    }
   ],
   "source": [
    "vae_sigma_sq"
   ]
  },
  {
   "cell_type": "code",
   "execution_count": 15,
   "id": "91fcbe53",
   "metadata": {},
   "outputs": [
    {
     "data": {
      "text/plain": [
       "0.0021125319069378997"
      ]
     },
     "execution_count": 15,
     "metadata": {},
     "output_type": "execute_result"
    }
   ],
   "source": [
    "mle_sigma_sq"
   ]
  },
  {
   "cell_type": "code",
   "execution_count": 16,
   "id": "98653a36",
   "metadata": {},
   "outputs": [],
   "source": [
    "diag = np.diag(vae_W.T @ vae_W)\n",
    "index = np.argsort(diag)\n",
    "index = index[::-1]\n",
    "vae_W_sorted = vae_W[:, index]\n",
    "vae_Gram = vae_W_sorted.T @ vae_W_sorted"
   ]
  },
  {
   "cell_type": "code",
   "execution_count": 17,
   "id": "8ffc2a04",
   "metadata": {},
   "outputs": [
    {
     "data": {
      "image/png": "[encoded data removed]",
      "text/plain": [
       "<Figure size 640x480 with 1 Axes>"
      ]
     },
     "metadata": {},
     "output_type": "display_data"
    }
   ],
   "source": [
    "import matplotlib.pyplot as plt\n",
    "plt.imshow(vae_Gram[0:30, 0:30] / np.max(vae_Gram), cmap='gray', vmin=0)\n",
    "plt.title(r'$W_{vae}^T W_{vae}$')\n",
    "plt.savefig('Gram_vae.jpg', dpi=500)\n",
    "plt.show()"
   ]
  },
  {
   "cell_type": "code",
   "execution_count": 18,
   "id": "dbdfc96f",
   "metadata": {},
   "outputs": [
    {
     "data": {
      "image/png": "[encoded data removed]",
      "text/plain": [
       "<Figure size 640x480 with 1 Axes>"
      ]
     },
     "metadata": {},
     "output_type": "display_data"
    }
   ],
   "source": [
    "mle_Gram = mle_W.T @ mle_W\n",
    "plt.imshow(mle_Gram[:30, :30], cmap='gray', vmin=0)\n",
    "plt.title(r'$W_{MLE}^T W_{MLE}$')\n",
    "plt.savefig('Gram_mle.jpg', dpi=500)\n",
    "plt.show()"
   ]
  },
  {
   "cell_type": "code",
   "execution_count": null,
   "id": "e5e3892f",
   "metadata": {},
   "outputs": [],
   "source": []
  },
  {
   "cell_type": "code",
   "execution_count": null,
   "id": "7b70376e",
   "metadata": {},
   "outputs": [],
   "source": []
  },
  {
   "cell_type": "code",
   "execution_count": null,
   "id": "f82fd982",
   "metadata": {},
   "outputs": [],
   "source": []
  }
 ],
 "metadata": {
  "kernelspec": {
   "display_name": "Python [conda env:pytorch]",
   "language": "python",
   "name": "conda-env-pytorch-py"
  },
  "language_info": {
   "codemirror_mode": {
    "name": "ipython",
    "version": 3
   },
   "file_extension": ".py",
   "mimetype": "text/x-python",
   "name": "python",
   "nbconvert_exporter": "python",
   "pygments_lexer": "ipython3",
   "version": "3.9.13"
  }
 },
 "nbformat": 4,
 "nbformat_minor": 5
}
